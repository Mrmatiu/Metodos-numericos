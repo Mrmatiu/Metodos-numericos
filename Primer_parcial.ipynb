{
  "nbformat": 4,
  "nbformat_minor": 0,
  "metadata": {
    "colab": {
      "name": "numericos.ipynb",
      "provenance": [],
      "collapsed_sections": [],
      "include_colab_link": true
    },
    "kernelspec": {
      "name": "python3",
      "display_name": "Python 3"
    }
  },
  "cells": [
    {
      "cell_type": "markdown",
      "metadata": {
        "id": "view-in-github",
        "colab_type": "text"
      },
      "source": [
        "<a href=\"https://colab.research.google.com/github/Mrmatiu/Metodos-numericos/blob/master/Primer_parcial.ipynb\" target=\"_parent\"><img src=\"https://colab.research.google.com/assets/colab-badge.svg\" alt=\"Open In Colab\"/></a>"
      ]
    },
    {
      "cell_type": "code",
      "metadata": {
        "colab_type": "code",
        "id": "ryeUly6Z7Pwd",
        "colab": {}
      },
      "source": [
        "### Metodo delta de aitken"
      ],
      "execution_count": 0,
      "outputs": []
    },
    {
      "cell_type": "code",
      "metadata": {
        "colab_type": "code",
        "id": "nZ-qqJrE7PMa",
        "colab": {}
      },
      "source": [
        "### Metodo de steffensen"
      ],
      "execution_count": 0,
      "outputs": []
    },
    {
      "cell_type": "code",
      "metadata": {
        "colab_type": "code",
        "id": "k4JlVSDw7O0C",
        "colab": {}
      },
      "source": [
        "### Metodo modificando de aitken"
      ],
      "execution_count": 0,
      "outputs": []
    },
    {
      "cell_type": "code",
      "metadata": {
        "colab_type": "code",
        "id": "VeASeLNe7NJZ",
        "colab": {}
      },
      "source": [
        "### Metodo de la secante"
      ],
      "execution_count": 0,
      "outputs": []
    },
    {
      "cell_type": "code",
      "metadata": {
        "id": "V3RbyXCnVszn",
        "colab_type": "code",
        "colab": {}
      },
      "source": [
        "### Metodo de la biseccion.\n",
        "\n",
        "import scipy.integrate as spi\n",
        "import numpy as np\n",
        "\n",
        "def funcion(x):\n",
        "  p = 0;\n",
        "  #p = np.exp(x) - x**2 + 2*np.cos(x) - 6;\n",
        "  #p = np.log(x-1) + cos(x-1);\n",
        "  p = x**3 + 4*(x**2) - 10;\n",
        "  return p;\n",
        "\n",
        "\n",
        "def main():\n",
        "  a = 1;\n",
        "  b = 2;\n",
        "  tol = 1e-4;\n",
        "  po = 0.00000;\n",
        "  fp = 0;\n",
        "  i = 1;\n",
        "  condicion = 0;\n",
        "  print(\" Metodo de la bisección \");\n",
        "  print(\" | n |    Pn    |   f(Pn)   |   [f(Pn)]  |\");\n",
        "  while condicion <= 0:\n",
        "    po = (a+b)/2;\n",
        "    fp = funcion(po);\n",
        "    valor_absoluto = abs(fp)\n",
        "    s = ' | ' + str(i) + ' | ' + str('%.6f'%po) + ' | ' + str('%.6f'%fp) + ' | ' + str('%.6f'%valor_absoluto) + ' | ';\n",
        "    print (s);\n",
        "    if abs(fp) <= tol:\n",
        "      print(\"\\nLa raiz de la funcion es \" + repr(po));\n",
        "      condicion = 1;\n",
        "    else:\n",
        "      if (funcion(po)*funcion(a)) < 0:\n",
        "        b = po;\n",
        "      if (funcion(po)*funcion(b)) < 0:\n",
        "        a = po;\n",
        "    i = i +1\n",
        "    \n",
        "  \n",
        "if __name__ == \"__main__\":\n",
        "   \n",
        "    main()\n",
        "    \n",
        "    \n",
        "    \n",
        "  \n",
        "\n",
        "     "
      ],
      "execution_count": 0,
      "outputs": []
    },
    {
      "cell_type": "code",
      "metadata": {
        "colab_type": "code",
        "outputId": "421bd688-db8d-403d-d43a-215213c1831c",
        "id": "UsYYgny27MSb",
        "colab": {
          "base_uri": "https://localhost:8080/",
          "height": 156
        }
      },
      "source": [
        "### Metodo de iteracion punto fijo.\n",
        "\n",
        "\n",
        "import scipy.integrate as spi\n",
        "import numpy as np\n",
        "import math  \n",
        "from numpy import ndarray\n",
        "\n",
        "def funcion_1(x): return x - (x**3) - 4*(x**2) +10;\n",
        "def funcion_2(x): return math.sqrt((10/x)-4*x);\n",
        "def funcion_3(x): return 0.5*math.sqrt(10-(x**3));\n",
        "def funcion_4(x): return sqrt(10/(4+x));\n",
        "def funcion_5(x): return x - ((x**3) + 4*(x**2) - 10)/(3*(x**2)+8*x);\n",
        "def prueba(x): return (x-((x*x*x)+4*(x*x)-10)/(3*(x*x)+8*x));\n",
        "\n",
        "\n",
        "\n",
        "\"\"\"\n",
        "def main():\n",
        "  p[0] = 1.1;\n",
        "  err[0] = 1;\n",
        "  tol = 1e-10;\n",
        "  i = 1;\n",
        "  print(\" Metodo de iteracion de punto fijo\");\n",
        "  print(\" | n |    Pn    |   Pn-1   |  [Pn-Pn-1] |\");\n",
        "  s = ' | 0 | ' + str('%.6f'%p[i]) + ' |  -----   | ' + '  ------   | ';\n",
        "  print (s);\n",
        "  while err[i-1] > tol:\n",
        "    p[i] = prueba(p[i-1]);\n",
        "    valor_absoluto = abs(p[i]-p[i-1]);\n",
        "    print(p[1]);\n",
        "    print(p[0]);\n",
        "    err[i] = valor_absoluto;\n",
        "    z = ' | ' + str(i) + ' | ' + str('%.6f'%p[i]) +' | ' +str('%.6f'%p[i-1])+ ' | ' +str('%.7f'%err[i])+ ' | ';\n",
        "    print(z);\n",
        "    i = i+1;\n",
        "\"\"\"\n",
        "\n",
        "def main():\n",
        "  po = 1.1;\n",
        "  p = 0;\n",
        "  err = 1;\n",
        "  tol = 1e-10;\n",
        "  i = 1;\n",
        "  print(\" Metodo de iteracion de punto fijo\");\n",
        "  print(\" | n |    Pn    |   Pn-1   |  [Pn-Pn-1] |\");\n",
        "  s = ' | 0 | ' + str('%.6f'%p) + ' |  -----   | ' + '  ------   | ';  \n",
        "  print (s);\n",
        "  p = prueba(po);\n",
        "  while err > tol:\n",
        "    err = abs(p - po);\n",
        "    po = p;\n",
        "    p = prueba(po);\n",
        "    z = ' | ' + str(i) + ' | ' + str('%.6f'%p) +' | ' +str('%.6f'%po)+ ' | ' +str('%.7f'%err)+ ' | ';\n",
        "    print(z);\n",
        "    i = i+1;\n",
        "    \n",
        "    \n",
        "  \n",
        "if __name__ == \"__main__\":\n",
        "   \n",
        "    main()\n",
        "    \n",
        " \n"
      ],
      "execution_count": 4,
      "outputs": [
        {
          "output_type": "stream",
          "text": [
            " Metodo de iteracion de punto fijo\n",
            " | n |    Pn    |   Pn-1   |  [Pn-Pn-1] |\n",
            " | 0 | 0.000000 |  -----   |   ------   | \n",
            " | 1 | 1.366101 | 1.408045 | 0.3080451 | \n",
            " | 2 | 1.365230 | 1.366101 | 0.0419437 | \n",
            " | 3 | 1.365230 | 1.365230 | 0.0008710 | \n",
            " | 4 | 1.365230 | 1.365230 | 0.0000004 | \n",
            " | 5 | 1.365230 | 1.365230 | 0.0000000 | \n"
          ],
          "name": "stdout"
        }
      ]
    },
    {
      "cell_type": "code",
      "metadata": {
        "id": "d0TGVu5kQtRX",
        "colab_type": "code",
        "colab": {}
      },
      "source": [
        "### Metodo de Newton - Raphson\n",
        "\n",
        "import scipy.integrate as spi\n",
        "import numpy as np\n",
        "from numpy import ndarray\n",
        "\n",
        "def funcion(x):\n",
        "  float p;\n",
        "  p = np.log(x-1) + np.cos(x-1);\n",
        "  return p;\n",
        "\n",
        "def derivada_funcion(x):\n",
        "  float q;\n",
        "  q = 1/(x-1) - np.sin(x-1);\n",
        "  return q;\n",
        "\n",
        "p = ndarray((100,),int)\n",
        "fp = ndarray((100,),int)\n",
        "int i = 1;\n",
        "p[i-1] = 1.5\n",
        "float tol = 1e-5;\n",
        "int a = 1;\n",
        "  print(\" Metodo de Newton - Raphson \");\n",
        "  print(\"\\n\");\n",
        "  print(\" | n |   Pn   |    f(Pn)   |   |f(Pn)|    |\");\n",
        "  while a == 1;\n",
        "    \n",
        "    \n",
        "  \n",
        "\n",
        "     "
      ],
      "execution_count": 0,
      "outputs": []
    },
    {
      "cell_type": "code",
      "metadata": {
        "id": "70XF-6u1_BbJ",
        "colab_type": "code",
        "colab": {}
      },
      "source": [
        "|"
      ],
      "execution_count": 0,
      "outputs": []
    }
  ]
}